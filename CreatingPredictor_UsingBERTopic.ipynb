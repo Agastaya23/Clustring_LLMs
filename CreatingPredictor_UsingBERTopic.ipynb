{
  "cells": [
    {
      "cell_type": "code",
      "execution_count": null,
      "id": "de5133d7",
      "metadata": {
        "execution": {
          "iopub.execute_input": "2022-06-13T02:54:07.874844Z",
          "iopub.status.busy": "2022-06-13T02:54:07.874051Z",
          "iopub.status.idle": "2022-06-13T02:55:54.403953Z",
          "shell.execute_reply": "2022-06-13T02:55:54.403063Z"
        },
        "papermill": {
          "duration": 106.539165,
          "end_time": "2022-06-13T02:55:54.406029",
          "exception": false,
          "start_time": "2022-06-13T02:54:07.866864",
          "status": "completed"
        },
        "tags": [],
        "id": "de5133d7"
      },
      "outputs": [],
      "source": [
        "# This might take some time.\n",
        "!pip install bertopic\n",
        "from IPython.display import clear_output\n",
        "clear_output()"
      ]
    },
    {
      "cell_type": "code",
      "execution_count": null,
      "id": "6162edb8",
      "metadata": {
        "execution": {
          "iopub.execute_input": "2022-06-13T02:55:54.432614Z",
          "iopub.status.busy": "2022-06-13T02:55:54.431935Z",
          "iopub.status.idle": "2022-06-13T02:56:18.171605Z",
          "shell.execute_reply": "2022-06-13T02:56:18.170672Z"
        },
        "papermill": {
          "duration": 23.748878,
          "end_time": "2022-06-13T02:56:18.173845",
          "exception": false,
          "start_time": "2022-06-13T02:55:54.424967",
          "status": "completed"
        },
        "tags": [],
        "id": "6162edb8"
      },
      "outputs": [],
      "source": [
        "import bertopic\n",
        "import pandas as pd\n",
        "import numpy as np\n",
        "from bertopic import BERTopic\n",
        "from IPython.display import clear_output"
      ]
    },
    {
      "cell_type": "code",
      "execution_count": null,
      "id": "c6b9bd7d",
      "metadata": {
        "execution": {
          "iopub.execute_input": "2022-06-13T02:56:18.188409Z",
          "iopub.status.busy": "2022-06-13T02:56:18.188099Z",
          "iopub.status.idle": "2022-06-13T02:56:18.192708Z",
          "shell.execute_reply": "2022-06-13T02:56:18.191984Z"
        },
        "papermill": {
          "duration": 0.014038,
          "end_time": "2022-06-13T02:56:18.194743",
          "exception": false,
          "start_time": "2022-06-13T02:56:18.180705",
          "status": "completed"
        },
        "tags": [],
        "id": "c6b9bd7d"
      },
      "outputs": [],
      "source": [
        "import os\n",
        "os.environ[\"TOKENIZERS_PARALLELISM\"] = \"false\""
      ]
    },
    {
      "cell_type": "code",
      "execution_count": null,
      "id": "d6a0556e",
      "metadata": {
        "execution": {
          "iopub.execute_input": "2022-06-13T02:56:18.221271Z",
          "iopub.status.busy": "2022-06-13T02:56:18.220612Z",
          "iopub.status.idle": "2022-06-13T02:56:20.592148Z",
          "shell.execute_reply": "2022-06-13T02:56:20.591294Z"
        },
        "papermill": {
          "duration": 2.381035,
          "end_time": "2022-06-13T02:56:20.594690",
          "exception": false,
          "start_time": "2022-06-13T02:56:18.213655",
          "status": "completed"
        },
        "tags": [],
        "id": "d6a0556e"
      },
      "outputs": [],
      "source": [
        "data = pd.read_csv(\"../input/wikipedia-corpus-on-security-domain/wikidatav1.csv\")"
      ]
    },
    {
      "cell_type": "code",
      "execution_count": null,
      "id": "af6f14b5",
      "metadata": {
        "execution": {
          "iopub.execute_input": "2022-06-13T02:56:20.609445Z",
          "iopub.status.busy": "2022-06-13T02:56:20.609077Z",
          "iopub.status.idle": "2022-06-13T02:56:20.625749Z",
          "shell.execute_reply": "2022-06-13T02:56:20.624869Z"
        },
        "papermill": {
          "duration": 0.026664,
          "end_time": "2022-06-13T02:56:20.628066",
          "exception": false,
          "start_time": "2022-06-13T02:56:20.601402",
          "status": "completed"
        },
        "tags": [],
        "id": "af6f14b5",
        "outputId": "f658c940-1ee8-426a-9348-c0fed1219d29"
      },
      "outputs": [
        {
          "data": {
            "text/html": [
              "<div>\n",
              "<style scoped>\n",
              "    .dataframe tbody tr th:only-of-type {\n",
              "        vertical-align: middle;\n",
              "    }\n",
              "\n",
              "    .dataframe tbody tr th {\n",
              "        vertical-align: top;\n",
              "    }\n",
              "\n",
              "    .dataframe thead th {\n",
              "        text-align: right;\n",
              "    }\n",
              "</style>\n",
              "<table border=\"1\" class=\"dataframe\">\n",
              "  <thead>\n",
              "    <tr style=\"text-align: right;\">\n",
              "      <th></th>\n",
              "      <th>title</th>\n",
              "      <th>content</th>\n",
              "    </tr>\n",
              "  </thead>\n",
              "  <tbody>\n",
              "    <tr>\n",
              "      <th>0</th>\n",
              "      <td>Backup</td>\n",
              "      <td>verb form referring process back whereas noun ...</td>\n",
              "    </tr>\n",
              "    <tr>\n",
              "      <th>1</th>\n",
              "      <td>Backup</td>\n",
              "      <td>different types data storage devices used copy...</td>\n",
              "    </tr>\n",
              "    <tr>\n",
              "      <th>2</th>\n",
              "      <td>Backup</td>\n",
              "      <td>limitations human factors involved backup sche...</td>\n",
              "    </tr>\n",
              "    <tr>\n",
              "      <th>3</th>\n",
              "      <td>Backup</td>\n",
              "      <td>rule rule aid backup process.states least copi...</td>\n",
              "    </tr>\n",
              "    <tr>\n",
              "      <th>4</th>\n",
              "      <td>Backup</td>\n",
              "      <td>backup methods unstructured unstructured repos...</td>\n",
              "    </tr>\n",
              "  </tbody>\n",
              "</table>\n",
              "</div>"
            ],
            "text/plain": [
              "    title                                            content\n",
              "0  Backup  verb form referring process back whereas noun ...\n",
              "1  Backup  different types data storage devices used copy...\n",
              "2  Backup  limitations human factors involved backup sche...\n",
              "3  Backup  rule rule aid backup process.states least copi...\n",
              "4  Backup  backup methods unstructured unstructured repos..."
            ]
          },
          "execution_count": 5,
          "metadata": {},
          "output_type": "execute_result"
        }
      ],
      "source": [
        "data.head()"
      ]
    },
    {
      "cell_type": "code",
      "execution_count": null,
      "id": "faac26dc",
      "metadata": {
        "execution": {
          "iopub.execute_input": "2022-06-13T02:56:20.642165Z",
          "iopub.status.busy": "2022-06-13T02:56:20.641881Z",
          "iopub.status.idle": "2022-06-13T02:56:20.646707Z",
          "shell.execute_reply": "2022-06-13T02:56:20.646004Z"
        },
        "papermill": {
          "duration": 0.013747,
          "end_time": "2022-06-13T02:56:20.648266",
          "exception": false,
          "start_time": "2022-06-13T02:56:20.634519",
          "status": "completed"
        },
        "tags": [],
        "id": "faac26dc",
        "outputId": "634ec5c4-197f-4438-a434-e0ccc9c6bf4f"
      },
      "outputs": [
        {
          "data": {
            "text/plain": [
              "(173315, 2)"
            ]
          },
          "execution_count": 6,
          "metadata": {},
          "output_type": "execute_result"
        }
      ],
      "source": [
        "data.shape"
      ]
    },
    {
      "cell_type": "code",
      "execution_count": null,
      "id": "cf2a8a18",
      "metadata": {
        "execution": {
          "iopub.execute_input": "2022-06-13T02:56:20.662837Z",
          "iopub.status.busy": "2022-06-13T02:56:20.662101Z",
          "iopub.status.idle": "2022-06-13T02:56:20.694983Z",
          "shell.execute_reply": "2022-06-13T02:56:20.694216Z"
        },
        "papermill": {
          "duration": 0.041947,
          "end_time": "2022-06-13T02:56:20.696723",
          "exception": false,
          "start_time": "2022-06-13T02:56:20.654776",
          "status": "completed"
        },
        "tags": [],
        "id": "cf2a8a18",
        "outputId": "b98ff071-7747-4798-e3ed-af59a45d0abc"
      },
      "outputs": [
        {
          "data": {
            "text/plain": [
              "Information security        1258\n",
              "Computer security           1200\n",
              "Transport Layer Security    1131\n",
              "Mobile security              949\n",
              "National Security Agency     810\n",
              "                            ... \n",
              "KSV-21                         1\n",
              "MPEG Common Encryption         1\n",
              "Client-side encryption         1\n",
              "Session key                    1\n",
              "Cabinet of Brazil              1\n",
              "Name: title, Length: 6736, dtype: int64"
            ]
          },
          "execution_count": 7,
          "metadata": {},
          "output_type": "execute_result"
        }
      ],
      "source": [
        "data.title.value_counts()"
      ]
    },
    {
      "cell_type": "code",
      "execution_count": null,
      "id": "ff564d9b",
      "metadata": {
        "execution": {
          "iopub.execute_input": "2022-06-13T02:56:20.711391Z",
          "iopub.status.busy": "2022-06-13T02:56:20.711088Z",
          "iopub.status.idle": "2022-06-13T02:56:20.716911Z",
          "shell.execute_reply": "2022-06-13T02:56:20.716138Z"
        },
        "papermill": {
          "duration": 0.015149,
          "end_time": "2022-06-13T02:56:20.718554",
          "exception": false,
          "start_time": "2022-06-13T02:56:20.703405",
          "status": "completed"
        },
        "tags": [],
        "id": "ff564d9b"
      },
      "outputs": [],
      "source": [
        "#convert dataframe to list and taking only one thousand row\n",
        "data = data[:50000]\n",
        "docs = data.content.to_list()"
      ]
    },
    {
      "cell_type": "code",
      "execution_count": null,
      "id": "001f1d6a",
      "metadata": {
        "execution": {
          "iopub.execute_input": "2022-06-13T02:56:20.746623Z",
          "iopub.status.busy": "2022-06-13T02:56:20.746239Z",
          "iopub.status.idle": "2022-06-13T03:03:24.169109Z",
          "shell.execute_reply": "2022-06-13T03:03:24.168197Z"
        },
        "papermill": {
          "duration": 423.438675,
          "end_time": "2022-06-13T03:03:24.177284",
          "exception": false,
          "start_time": "2022-06-13T02:56:20.738609",
          "status": "completed"
        },
        "tags": [],
        "id": "001f1d6a"
      },
      "outputs": [],
      "source": [
        "model = BERTopic(embedding_model=\"all-mpnet-base-v2\").fit(docs)\n",
        "clear_output()"
      ]
    },
    {
      "cell_type": "code",
      "execution_count": null,
      "id": "ec5f51ca",
      "metadata": {
        "execution": {
          "iopub.execute_input": "2022-06-13T03:03:24.207911Z",
          "iopub.status.busy": "2022-06-13T03:03:24.207127Z",
          "iopub.status.idle": "2022-06-13T03:03:24.219622Z",
          "shell.execute_reply": "2022-06-13T03:03:24.218791Z"
        },
        "papermill": {
          "duration": 0.02313,
          "end_time": "2022-06-13T03:03:24.221430",
          "exception": false,
          "start_time": "2022-06-13T03:03:24.198300",
          "status": "completed"
        },
        "tags": [],
        "id": "ec5f51ca",
        "outputId": "d3c42369-240d-4b47-eb6f-83556f97996f"
      },
      "outputs": [
        {
          "data": {
            "text/html": [
              "<div>\n",
              "<style scoped>\n",
              "    .dataframe tbody tr th:only-of-type {\n",
              "        vertical-align: middle;\n",
              "    }\n",
              "\n",
              "    .dataframe tbody tr th {\n",
              "        vertical-align: top;\n",
              "    }\n",
              "\n",
              "    .dataframe thead th {\n",
              "        text-align: right;\n",
              "    }\n",
              "</style>\n",
              "<table border=\"1\" class=\"dataframe\">\n",
              "  <thead>\n",
              "    <tr style=\"text-align: right;\">\n",
              "      <th></th>\n",
              "      <th>Topic</th>\n",
              "      <th>Count</th>\n",
              "    </tr>\n",
              "  </thead>\n",
              "  <tbody>\n",
              "    <tr>\n",
              "      <th>0</th>\n",
              "      <td>-1</td>\n",
              "      <td>10173</td>\n",
              "    </tr>\n",
              "    <tr>\n",
              "      <th>1</th>\n",
              "      <td>0</td>\n",
              "      <td>280</td>\n",
              "    </tr>\n",
              "    <tr>\n",
              "      <th>2</th>\n",
              "      <td>1</td>\n",
              "      <td>279</td>\n",
              "    </tr>\n",
              "    <tr>\n",
              "      <th>3</th>\n",
              "      <td>2</td>\n",
              "      <td>278</td>\n",
              "    </tr>\n",
              "    <tr>\n",
              "      <th>4</th>\n",
              "      <td>3</td>\n",
              "      <td>269</td>\n",
              "    </tr>\n",
              "    <tr>\n",
              "      <th>...</th>\n",
              "      <td>...</td>\n",
              "      <td>...</td>\n",
              "    </tr>\n",
              "    <tr>\n",
              "      <th>950</th>\n",
              "      <td>955</td>\n",
              "      <td>10</td>\n",
              "    </tr>\n",
              "    <tr>\n",
              "      <th>949</th>\n",
              "      <td>956</td>\n",
              "      <td>10</td>\n",
              "    </tr>\n",
              "    <tr>\n",
              "      <th>947</th>\n",
              "      <td>958</td>\n",
              "      <td>10</td>\n",
              "    </tr>\n",
              "    <tr>\n",
              "      <th>946</th>\n",
              "      <td>952</td>\n",
              "      <td>10</td>\n",
              "    </tr>\n",
              "    <tr>\n",
              "      <th>960</th>\n",
              "      <td>959</td>\n",
              "      <td>10</td>\n",
              "    </tr>\n",
              "  </tbody>\n",
              "</table>\n",
              "<p>961 rows × 2 columns</p>\n",
              "</div>"
            ],
            "text/plain": [
              "     Topic  Count\n",
              "0       -1  10173\n",
              "1        0    280\n",
              "2        1    279\n",
              "3        2    278\n",
              "4        3    269\n",
              "..     ...    ...\n",
              "950    955     10\n",
              "949    956     10\n",
              "947    958     10\n",
              "946    952     10\n",
              "960    959     10\n",
              "\n",
              "[961 rows x 2 columns]"
            ]
          },
          "execution_count": 10,
          "metadata": {},
          "output_type": "execute_result"
        }
      ],
      "source": [
        "model.get_topic_freq()"
      ]
    },
    {
      "cell_type": "code",
      "execution_count": null,
      "id": "8f7aa56e",
      "metadata": {
        "execution": {
          "iopub.execute_input": "2022-06-13T03:06:33.537229Z",
          "iopub.status.busy": "2022-06-13T03:06:33.536667Z",
          "iopub.status.idle": "2022-06-13T03:06:33.547297Z",
          "shell.execute_reply": "2022-06-13T03:06:33.546536Z"
        },
        "papermill": {
          "duration": 0.503115,
          "end_time": "2022-06-13T03:06:33.549036",
          "exception": false,
          "start_time": "2022-06-13T03:06:33.045921",
          "status": "completed"
        },
        "tags": [],
        "id": "8f7aa56e"
      },
      "outputs": [],
      "source": [
        "def compute(text):\n",
        "    topics, probs = model.transform(text)\n",
        "    clear_output()\n",
        "    print(\"-----------------------------------------------------------------------------------\")\n",
        "    print(\"Topic id: \",topics)\n",
        "    topic = model.topic_names[topics[0]]\n",
        "    print(\"Topic name: \",topic)\n",
        "    print(\"-----------------------------------------------------------------------------------\")\n",
        "    print(\"Suggested Topic: \\n\")\n",
        "    f_t = model.find_topics(topic)\n",
        "    for i in f_t[0]:\n",
        "        print(model.topic_names[i],\"\\n\")"
      ]
    },
    {
      "cell_type": "code",
      "execution_count": null,
      "id": "8caed559",
      "metadata": {
        "execution": {
          "iopub.execute_input": "2022-06-13T03:06:34.528719Z",
          "iopub.status.busy": "2022-06-13T03:06:34.528257Z",
          "iopub.status.idle": "2022-06-13T03:06:53.023597Z",
          "shell.execute_reply": "2022-06-13T03:06:53.022563Z"
        },
        "papermill": {
          "duration": 19.030942,
          "end_time": "2022-06-13T03:06:53.026249",
          "exception": false,
          "start_time": "2022-06-13T03:06:33.995307",
          "status": "completed"
        },
        "tags": [],
        "id": "8caed559",
        "outputId": "1b98d928-4a6b-42cc-a872-1df561191279"
      },
      "outputs": [
        {
          "name": "stdout",
          "output_type": "stream",
          "text": [
            "-----------------------------------------------------------------------------------\n",
            "Topic id:  [210]\n",
            "Topic name:  210_virus_viruses_infected_programs\n",
            "-----------------------------------------------------------------------------------\n",
            "Suggested Topic: \n",
            "\n",
            "210_virus_viruses_infected_programs \n",
            "\n",
            "681_malware_antivirus_antimalware_fileless \n",
            "\n",
            "824_malwarebytes_kleczynski_malware_pii \n",
            "\n",
            "593_av_onecare_essentials_morro \n",
            "\n",
            "443_norton_symantec_antivirus_mb \n",
            "\n"
          ]
        }
      ],
      "source": [
        "text = \"Malware is intrusive software that is designed to damage and destroy computers and computer systems. Malware is a contraction for “malicious software.” Examples of common malware includes viruses, worms, Trojan viruses, spyware, adware, and ransomware.\"\n",
        "\n",
        "compute(text)\n",
        "del text"
      ]
    },
    {
      "cell_type": "code",
      "execution_count": null,
      "id": "4848e1cc",
      "metadata": {
        "execution": {
          "iopub.execute_input": "2022-06-13T03:06:53.960749Z",
          "iopub.status.busy": "2022-06-13T03:06:53.960385Z",
          "iopub.status.idle": "2022-06-13T03:06:56.504272Z",
          "shell.execute_reply": "2022-06-13T03:06:56.502526Z"
        },
        "papermill": {
          "duration": 2.991438,
          "end_time": "2022-06-13T03:06:56.507894",
          "exception": false,
          "start_time": "2022-06-13T03:06:53.516456",
          "status": "completed"
        },
        "tags": [],
        "id": "4848e1cc",
        "outputId": "ddfcdcff-933c-41b8-ef5b-b1fc54cb8abd"
      },
      "outputs": [
        {
          "name": "stdout",
          "output_type": "stream",
          "text": [
            "-----------------------------------------------------------------------------------\n",
            "Topic id:  [371]\n",
            "Topic name:  371_smartphone_smartphones_malicious_mobile\n",
            "-----------------------------------------------------------------------------------\n",
            "Suggested Topic: \n",
            "\n",
            "371_smartphone_smartphones_malicious_mobile \n",
            "\n",
            "824_malwarebytes_kleczynski_malware_pii \n",
            "\n",
            "681_malware_antivirus_antimalware_fileless \n",
            "\n",
            "400_phones_mobile_phone_gsm \n",
            "\n",
            "210_virus_viruses_infected_programs \n",
            "\n"
          ]
        }
      ],
      "source": [
        "text = \"\"\" Mobile security is the protection of smartphones, tablets, laptops and other portable computing devices, and the networks they connect to, from threats and vulnerabilities associated with wireless computing.\n",
        "\"\"\"\n",
        "\n",
        "compute(text)\n",
        "del text"
      ]
    },
    {
      "cell_type": "code",
      "execution_count": null,
      "id": "aef72be3",
      "metadata": {
        "execution": {
          "iopub.execute_input": "2022-06-13T03:06:57.456993Z",
          "iopub.status.busy": "2022-06-13T03:06:57.456630Z",
          "iopub.status.idle": "2022-06-13T03:06:57.484288Z",
          "shell.execute_reply": "2022-06-13T03:06:57.483381Z"
        },
        "papermill": {
          "duration": 0.481821,
          "end_time": "2022-06-13T03:06:57.487332",
          "exception": false,
          "start_time": "2022-06-13T03:06:57.005511",
          "status": "completed"
        },
        "tags": [],
        "id": "aef72be3",
        "outputId": "e631f556-d3c4-420a-d9ac-09fd6fd1c59c"
      },
      "outputs": [
        {
          "data": {
            "text/plain": [
              "([545, 4, 296, 598, 14],\n",
              " [0.7990591148043709,\n",
              "  0.7755663838789957,\n",
              "  0.6766453740707444,\n",
              "  0.663554185106069,\n",
              "  0.6568542535793394])"
            ]
          },
          "execution_count": 19,
          "metadata": {},
          "output_type": "execute_result"
        }
      ],
      "source": [
        "md = model.find_topics(\"Microsoft\")\n",
        "md\n"
      ]
    },
    {
      "cell_type": "code",
      "execution_count": null,
      "id": "a81ccf4d",
      "metadata": {
        "execution": {
          "iopub.execute_input": "2022-06-13T03:06:58.447274Z",
          "iopub.status.busy": "2022-06-13T03:06:58.446877Z",
          "iopub.status.idle": "2022-06-13T03:06:58.452212Z",
          "shell.execute_reply": "2022-06-13T03:06:58.451378Z"
        },
        "papermill": {
          "duration": 0.444671,
          "end_time": "2022-06-13T03:06:58.455365",
          "exception": false,
          "start_time": "2022-06-13T03:06:58.010694",
          "status": "completed"
        },
        "tags": [],
        "id": "a81ccf4d",
        "outputId": "40a233a4-cbb0-4e89-c3be-d48d05086db1"
      },
      "outputs": [
        {
          "name": "stdout",
          "output_type": "stream",
          "text": [
            "[('office', 0.060668963071285574), ('microsoft', 0.05801730897503321), ('onedrive', 0.029258234345362965), ('premium', 0.026567596540771198), ('subscription', 0.02449503272098211), ('skype', 0.02349709782793276), ('sharepoint', 0.02284263497664613), ('enterprise', 0.02256589797010997), ('plans', 0.02211851449485912), ('business', 0.02130393865910669)]\n",
            "\n",
            "[('windows', 0.042986325295883386), ('vista', 0.027856195236314798), ('xp', 0.015582919934191189), ('microsoft', 0.013353976904710973), ('editions', 0.012191947504467346), ('nt', 0.010403079608584644), ('server', 0.008562427345287556), ('pack', 0.007537683780862969), ('edition', 0.007430142639396355), ('versions', 0.007090702617753443)]\n",
            "\n",
            "[('explorer', 0.11041592522580929), ('internet', 0.042346033442830354), ('browser', 0.03852165917131308), ('ie', 0.03356754176385891), ('windows', 0.017090392026106495), ('addons', 0.015597443632612028), ('microsoft', 0.015496437118646837), ('mshtml', 0.015310699300809643), ('html', 0.01462111760644583), ('activex', 0.01445554474580568)]\n",
            "\n",
            "[('onedrive', 0.11787849366069929), ('skydrive', 0.0614910370720634), ('ubuntu', 0.053544126054944775), ('gb', 0.0370542007331851), ('photos', 0.02467516999452315), ('microsoft', 0.02467210486494312), ('files', 0.01593809557501855), ('users', 0.014937159900419253), ('office', 0.01368965367793195), ('uploaded', 0.013681384694523565)]\n",
            "\n",
            "[('ibm', 0.05483171941936033), ('ibms', 0.023321378894642055), ('watson', 0.01642206348023456), ('tabulating', 0.011216526491510097), ('punched', 0.010863372744421666), ('hollerith', 0.009729988587263705), ('antitrust', 0.009716017024356446), ('company', 0.008330710030886696), ('computer', 0.0071396176135397425), ('tabulator', 0.006190626216326402)]\n",
            "\n"
          ]
        }
      ],
      "source": [
        "for i in md[0]:\n",
        "    print(model.get_topic(i))\n",
        "    print()"
      ]
    },
    {
      "cell_type": "code",
      "execution_count": null,
      "id": "556c9517",
      "metadata": {
        "execution": {
          "iopub.execute_input": "2022-06-13T03:06:59.368011Z",
          "iopub.status.busy": "2022-06-13T03:06:59.367544Z",
          "iopub.status.idle": "2022-06-13T03:06:59.383273Z",
          "shell.execute_reply": "2022-06-13T03:06:59.382539Z"
        },
        "papermill": {
          "duration": 0.459943,
          "end_time": "2022-06-13T03:06:59.384990",
          "exception": false,
          "start_time": "2022-06-13T03:06:58.925047",
          "status": "completed"
        },
        "tags": [],
        "id": "556c9517",
        "outputId": "7035943d-3a4d-4169-a1d6-5936b697d5c7"
      },
      "outputs": [
        {
          "data": {
            "text/html": [
              "<div>\n",
              "<style scoped>\n",
              "    .dataframe tbody tr th:only-of-type {\n",
              "        vertical-align: middle;\n",
              "    }\n",
              "\n",
              "    .dataframe tbody tr th {\n",
              "        vertical-align: top;\n",
              "    }\n",
              "\n",
              "    .dataframe thead th {\n",
              "        text-align: right;\n",
              "    }\n",
              "</style>\n",
              "<table border=\"1\" class=\"dataframe\">\n",
              "  <thead>\n",
              "    <tr style=\"text-align: right;\">\n",
              "      <th></th>\n",
              "      <th>Topic</th>\n",
              "      <th>Count</th>\n",
              "      <th>Name</th>\n",
              "    </tr>\n",
              "  </thead>\n",
              "  <tbody>\n",
              "    <tr>\n",
              "      <th>0</th>\n",
              "      <td>-1</td>\n",
              "      <td>10173</td>\n",
              "      <td>-1_security_key_displaystyle_cryptography</td>\n",
              "    </tr>\n",
              "    <tr>\n",
              "      <th>1</th>\n",
              "      <td>0</td>\n",
              "      <td>280</td>\n",
              "      <td>0_rick_portrayed_negan_saviors</td>\n",
              "    </tr>\n",
              "    <tr>\n",
              "      <th>2</th>\n",
              "      <td>1</td>\n",
              "      <td>279</td>\n",
              "      <td>1_tenchi_ryoko_jurai_masaki</td>\n",
              "    </tr>\n",
              "    <tr>\n",
              "      <th>3</th>\n",
              "      <td>2</td>\n",
              "      <td>278</td>\n",
              "      <td>2_dutch_netherlands_holland_amsterdam</td>\n",
              "    </tr>\n",
              "    <tr>\n",
              "      <th>4</th>\n",
              "      <td>3</td>\n",
              "      <td>269</td>\n",
              "      <td>3_dexter_debra_dexters_laguerta</td>\n",
              "    </tr>\n",
              "    <tr>\n",
              "      <th>...</th>\n",
              "      <td>...</td>\n",
              "      <td>...</td>\n",
              "      <td>...</td>\n",
              "    </tr>\n",
              "    <tr>\n",
              "      <th>950</th>\n",
              "      <td>955</td>\n",
              "      <td>10</td>\n",
              "      <td>955_culture_chinese_subcultures_han</td>\n",
              "    </tr>\n",
              "    <tr>\n",
              "      <th>949</th>\n",
              "      <td>956</td>\n",
              "      <td>10</td>\n",
              "      <td>956_xxxviii_schleihauf_warship_dumaresq</td>\n",
              "    </tr>\n",
              "    <tr>\n",
              "      <th>947</th>\n",
              "      <td>958</td>\n",
              "      <td>10</td>\n",
              "      <td>958_log_logs_event_events</td>\n",
              "    </tr>\n",
              "    <tr>\n",
              "      <th>946</th>\n",
              "      <td>952</td>\n",
              "      <td>10</td>\n",
              "      <td>952_scada_sewage_mosaics_systems</td>\n",
              "    </tr>\n",
              "    <tr>\n",
              "      <th>960</th>\n",
              "      <td>959</td>\n",
              "      <td>10</td>\n",
              "      <td>959_poe_poes_allan_edgar</td>\n",
              "    </tr>\n",
              "  </tbody>\n",
              "</table>\n",
              "<p>961 rows × 3 columns</p>\n",
              "</div>"
            ],
            "text/plain": [
              "     Topic  Count                                       Name\n",
              "0       -1  10173  -1_security_key_displaystyle_cryptography\n",
              "1        0    280             0_rick_portrayed_negan_saviors\n",
              "2        1    279                1_tenchi_ryoko_jurai_masaki\n",
              "3        2    278      2_dutch_netherlands_holland_amsterdam\n",
              "4        3    269            3_dexter_debra_dexters_laguerta\n",
              "..     ...    ...                                        ...\n",
              "950    955     10        955_culture_chinese_subcultures_han\n",
              "949    956     10    956_xxxviii_schleihauf_warship_dumaresq\n",
              "947    958     10                  958_log_logs_event_events\n",
              "946    952     10           952_scada_sewage_mosaics_systems\n",
              "960    959     10                   959_poe_poes_allan_edgar\n",
              "\n",
              "[961 rows x 3 columns]"
            ]
          },
          "execution_count": 21,
          "metadata": {},
          "output_type": "execute_result"
        }
      ],
      "source": [
        "model.get_topic_info()"
      ]
    },
    {
      "cell_type": "markdown",
      "id": "746c9ff5",
      "metadata": {
        "papermill": {
          "duration": 0.460872,
          "end_time": "2022-06-13T03:07:00.280711",
          "exception": false,
          "start_time": "2022-06-13T03:06:59.819839",
          "status": "completed"
        },
        "tags": [],
        "id": "746c9ff5"
      },
      "source": [
        "# Saving Model"
      ]
    },
    {
      "cell_type": "code",
      "execution_count": null,
      "id": "fb4a6767",
      "metadata": {
        "execution": {
          "iopub.execute_input": "2022-06-13T03:07:01.168019Z",
          "iopub.status.busy": "2022-06-13T03:07:01.167485Z",
          "iopub.status.idle": "2022-06-13T03:07:04.591896Z",
          "shell.execute_reply": "2022-06-13T03:07:04.591054Z"
        },
        "papermill": {
          "duration": 3.87221,
          "end_time": "2022-06-13T03:07:04.594084",
          "exception": false,
          "start_time": "2022-06-13T03:07:00.721874",
          "status": "completed"
        },
        "tags": [],
        "id": "fb4a6767"
      },
      "outputs": [],
      "source": [
        "model.save(\"topic_model\", save_embedding_model=False)"
      ]
    },
    {
      "cell_type": "markdown",
      "id": "7a4d6d2c",
      "metadata": {
        "papermill": {
          "duration": 0.434003,
          "end_time": "2022-06-13T03:07:05.473507",
          "exception": false,
          "start_time": "2022-06-13T03:07:05.039504",
          "status": "completed"
        },
        "tags": [],
        "id": "7a4d6d2c"
      },
      "source": [
        "-----------------------------------------------------------------------------------------------------\n",
        "Road Runner is saying to upvote this notebook\n",
        "\n",
        "Bye"
      ]
    },
    {
      "cell_type": "markdown",
      "id": "58d82921",
      "metadata": {
        "papermill": {
          "duration": 0.445638,
          "end_time": "2022-06-13T03:07:06.355054",
          "exception": false,
          "start_time": "2022-06-13T03:07:05.909416",
          "status": "completed"
        },
        "tags": [],
        "id": "58d82921"
      },
      "source": [
        "![](https://media2.giphy.com/media/yhRhIgnJIRD0I/giphy.gif)"
      ]
    }
  ],
  "metadata": {
    "kernelspec": {
      "display_name": "Python 3",
      "language": "python",
      "name": "python3"
    },
    "language_info": {
      "codemirror_mode": {
        "name": "ipython",
        "version": 3
      },
      "file_extension": ".py",
      "mimetype": "text/x-python",
      "name": "python",
      "nbconvert_exporter": "python",
      "pygments_lexer": "ipython3",
      "version": "3.7.12"
    },
    "papermill": {
      "default_parameters": {},
      "duration": 789.686071,
      "end_time": "2022-06-13T03:07:09.542397",
      "environment_variables": {},
      "exception": null,
      "input_path": "__notebook__.ipynb",
      "output_path": "__notebook__.ipynb",
      "parameters": {},
      "start_time": "2022-06-13T02:53:59.856326",
      "version": "2.3.4"
    },
    "colab": {
      "provenance": []
    }
  },
  "nbformat": 4,
  "nbformat_minor": 5
}